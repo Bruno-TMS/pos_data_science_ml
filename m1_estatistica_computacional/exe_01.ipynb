{
 "cells": [
  {
   "cell_type": "markdown",
   "id": "69d94983",
   "metadata": {},
   "source": [
    "#### Exe -01\n",
    "Definindo como sucesso o cliente comprar, e supondo que a probabilidade de sucesso é 50%.\n",
    "Ao passar 10 clientes em nossa loja, qual a probabilidade de realizarmos 2 vendas?\n",
    "Ou seja, queremos encontrar a probabilidade de dois sucessos, em dez tentativas. Cuja probabilidade de sucesso\n",
    "em cada tentativa é 50%"
   ]
  },
  {
   "cell_type": "code",
   "execution_count": 4,
   "id": "07d6702e",
   "metadata": {},
   "outputs": [
    {
     "name": "stdout",
     "output_type": "stream",
     "text": [
      "A probabilidade de realizar exatamente 0.5 vendas entrado 10 clientes, é de 4.3945%\n"
     ]
    }
   ],
   "source": [
    "from scipy.stats import binom\n",
    "\n",
    "k = 2\n",
    "n = 10\n",
    "p = 0.5\n",
    "\n",
    "prob = binom.pmf(k=k, n=n, p=p)\n",
    "print(f\"A probabilidade de realizar exatamente {p} vendas entrado {n} clientes, é de {prob:.4%}\")"
   ]
  },
  {
   "cell_type": "markdown",
   "id": "6070fec0",
   "metadata": {},
   "source": [
    "Podemos simular qual a frequencia esperada de vendas a cada dez clientes ?"
   ]
  },
  {
   "cell_type": "code",
   "execution_count": 5,
   "id": "f3a0944f",
   "metadata": {},
   "outputs": [
    {
     "name": "stdout",
     "output_type": "stream",
     "text": [
      "Simulando vendas em 30 dias\n",
      "[2 5 4 5 8 4 6 3 5 2 5 4 4 5 7 6 6 2 6 5 4 7 5 5 5 6 6 4 2 6]\n"
     ]
    }
   ],
   "source": [
    "from scipy.stats import binom\n",
    "dias = 30\n",
    "n = 10\n",
    "p = 0.5\n",
    "\n",
    "simulador_vendas = binom.rvs(n = n, p = p, size = dias)\n",
    "\n",
    "print(f'Simulando vendas em 30 dias\\n{simulador_vendas}')\n"
   ]
  },
  {
   "cell_type": "code",
   "execution_count": 18,
   "id": "3709e3a9",
   "metadata": {},
   "outputs": [
    {
     "name": "stdout",
     "output_type": "stream",
     "text": [
      "['Solarize_Light2', '_classic_test_patch', '_mpl-gallery', '_mpl-gallery-nogrid', 'bmh', 'classic', 'dark_background', 'fast', 'fivethirtyeight', 'ggplot', 'grayscale', 'petroff10', 'seaborn-v0_8', 'seaborn-v0_8-bright', 'seaborn-v0_8-colorblind', 'seaborn-v0_8-dark', 'seaborn-v0_8-dark-palette', 'seaborn-v0_8-darkgrid', 'seaborn-v0_8-deep', 'seaborn-v0_8-muted', 'seaborn-v0_8-notebook', 'seaborn-v0_8-paper', 'seaborn-v0_8-pastel', 'seaborn-v0_8-poster', 'seaborn-v0_8-talk', 'seaborn-v0_8-ticks', 'seaborn-v0_8-white', 'seaborn-v0_8-whitegrid', 'tableau-colorblind10']\n"
     ]
    }
   ],
   "source": [
    "from matplotlib import pyplot as plt\n",
    "print(plt.style.available)"
   ]
  }
 ],
 "metadata": {
  "kernelspec": {
   "display_name": ".venv",
   "language": "python",
   "name": "python3"
  },
  "language_info": {
   "codemirror_mode": {
    "name": "ipython",
    "version": 3
   },
   "file_extension": ".py",
   "mimetype": "text/x-python",
   "name": "python",
   "nbconvert_exporter": "python",
   "pygments_lexer": "ipython3",
   "version": "3.13.3"
  }
 },
 "nbformat": 4,
 "nbformat_minor": 5
}
