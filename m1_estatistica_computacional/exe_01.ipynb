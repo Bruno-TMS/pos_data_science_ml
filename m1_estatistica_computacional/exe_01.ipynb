{
 "cells": [
  {
   "cell_type": "markdown",
   "id": "69d94983",
   "metadata": {},
   "source": [
    "#### Exe -01\n",
    "Definindo como sucesso o cliente comprar, e supondo que a probabilidade de sucesso é 50%.\n",
    "Ao passar 10 clientes em nossa loja, qual a probabilidade de realizarmos 2 vendas?\n",
    "Ou seja, queremos encontrar a probabilidade de dois sucessos, em dez tentativas. Cuja probabilidade de sucesso\n",
    "em cada tentativa é 50%"
   ]
  },
  {
   "cell_type": "code",
   "execution_count": 3,
   "id": "07d6702e",
   "metadata": {},
   "outputs": [
    {
     "name": "stdout",
     "output_type": "stream",
     "text": [
      "A probabilidade de realizar exatamente 0.5 vendas entrado 10 clientes, é de 4.3945%\n"
     ]
    }
   ],
   "source": [
    "from scipy.stats import binom\n",
    "\n",
    "k = 2\n",
    "n = 10\n",
    "p = 0.5\n",
    "\n",
    "prob = binom.pmf(k=k, n=n, p=p)\n",
    "print(f\"A probabilidade de realizar exatamente {p} vendas entrado {n} clientes, é de {prob:.4%}\")"
   ]
  },
  {
   "cell_type": "markdown",
   "id": "6070fec0",
   "metadata": {},
   "source": [
    "Podemos simular qual a frequencia esperada de vendas a cada dez clientes ?"
   ]
  },
  {
   "cell_type": "code",
   "execution_count": 10,
   "id": "f3a0944f",
   "metadata": {},
   "outputs": [],
   "source": [
    "from scipy.stats import binom\n",
    "dias = 100000\n",
    "n = 10\n",
    "p = 0.5\n",
    "\n",
    "simulador_vendas = binom.rvs(n = n, p = p, size = dias)\n",
    "\n",
    "\n"
   ]
  },
  {
   "cell_type": "code",
   "execution_count": 11,
   "id": "1d3a2985",
   "metadata": {},
   "outputs": [
    {
     "data": {
      "text/plain": [
       "(array([0.00961096, 0.04448071, 0.11783433, 0.20559438, 0.24663116,\n",
       "        0.20365216, 0.1174539 , 0.04381995, 0.01092245]),\n",
       " array([ 1.,  2.,  3.,  4.,  5.,  6.,  7.,  8.,  9., 10.]),\n",
       " <BarContainer object of 9 artists>)"
      ]
     },
     "execution_count": 11,
     "metadata": {},
     "output_type": "execute_result"
    },
    {
     "data": {
      "image/png": "[encoded data removed]",
      "text/plain": [
       "<Figure size 640x480 with 1 Axes>"
      ]
     },
     "metadata": {},
     "output_type": "display_data"
    }
   ],
   "source": [
    "from matplotlib import pyplot as plt\n",
    "plt.hist(simulador_vendas, bins=[1,2,3,4,5,6,7,8,9,10], density=True)"
   ]
  },
  {
   "cell_type": "markdown",
   "id": "54cf8ee7",
   "metadata": {},
   "source": [
    "Ao invés de saber a probabilidade de exatos dois comprarem.\n",
    "A probabilidade de até dois clientes comprarem é:\n",
    "(probabilidade de nenhum cliente comprar) + (probabilidade de um cliente comprar) + probabilidade de dois cliente comprarem)\n",
    "Formalizando: P(X<=2) = P(X=0) + P(X=1) + P(X=2)pbinom(q = 2,size = 10, prob = 0.5)"
   ]
  },
  {
   "cell_type": "code",
   "execution_count": 2,
   "id": "4dc3ef5c",
   "metadata": {},
   "outputs": [
    {
     "name": "stdout",
     "output_type": "stream",
     "text": [
      "A probabilidade de até 2 clientes comprarem é: 5.4688%\n"
     ]
    }
   ],
   "source": [
    "from scipy.stats import binom\n",
    "\n",
    "# Parâmetros\n",
    "n = 10   # Número de tentativas (clientes)\n",
    "p = 0.5  # Probabilidade de sucesso (compra)\n",
    "k = 2    # Até 2 sucessos\n",
    "\n",
    "# Calcula P(X <= 2)\n",
    "prob_acumulada = binom.cdf(k, n, p)\n",
    "print(f\"A probabilidade de até 2 clientes comprarem é: {prob_acumulada:.4%}\")"
   ]
  },
  {
   "cell_type": "markdown",
   "id": "d2ecf2d3",
   "metadata": {},
   "source": [
    "Exemplo: Definindo como sucesso o cliente comprar, e supondo que a probabilidade de sucesso é 50%.\n",
    "Qual a probabilidade da primeira venda ocorrer quando o quinto cliente entrar na loja? dgeom(x = 5-1, prob = 0.5)\n",
    "Onde:\n",
    "x é o número de tentativas'0"
   ]
  },
  {
   "cell_type": "code",
   "execution_count": 1,
   "id": "abb6fc0b",
   "metadata": {},
   "outputs": [
    {
     "name": "stdout",
     "output_type": "stream",
     "text": [
      "A probabilidade de realizar a primeira venda no 5º cliente é de 3.1250%\n"
     ]
    }
   ],
   "source": [
    "from scipy.stats import geom\n",
    "\n",
    "p = 0.5\n",
    "n = 5\n",
    "# Probabilidade de sucesso\n",
    "prob = geom.pmf(k=n, p=p)\n",
    "print(f\"A probabilidade de realizar a primeira venda no {n}º cliente é de {prob:.4%}\")\n",
    "\n"
   ]
  },
  {
   "cell_type": "code",
   "execution_count": 18,
   "id": "b8048a9a",
   "metadata": {},
   "outputs": [
    {
     "name": "stdout",
     "output_type": "stream",
     "text": [
      "A probabilidade de realizar a primeira venda até o 5º cliente é de 96.8750%\n"
     ]
    }
   ],
   "source": [
    "prob_acumulada = geom.cdf(k=n, p=p)\n",
    "print(f\"A probabilidade de realizar a primeira venda até o {n}º cliente é de {prob_acumulada:.4%}\")"
   ]
  },
  {
   "cell_type": "markdown",
   "id": "d1d36565",
   "metadata": {},
   "source": [
    "Qual a probabilidade de ter que entrar 8 clientes até que a segunda venda ocorra? dnbinom(x=2, size = 8, prob = 0.50)\n",
    "Onde:\n",
    "x é o número de sucessos\n",
    "size é a quantidade de tentativos\n",
    "prob é a probabilidade de sucesso"
   ]
  },
  {
   "cell_type": "code",
   "execution_count": 3,
   "id": "64a36f2f",
   "metadata": {},
   "outputs": [
    {
     "name": "stdout",
     "output_type": "stream",
     "text": [
      "A probabilidade de a segunda venda ocorrer na 8ª tentativa é: 0.0273\n"
     ]
    }
   ],
   "source": [
    "from scipy.stats import nbinom\n",
    "\n",
    "# Parâmetros\n",
    "k = 2    # Número de sucessos (vendas)\n",
    "x = 8    # Número de tentativas (clientes)\n",
    "p = 0.5  # Probabilidade de sucesso (compra)\n",
    "\n",
    "# Calcula a probabilidade P(X = 8)\n",
    "# nbinom.pmf usa o número de falhas (x - k) antes de k sucessos\n",
    "prob = nbinom.pmf(x - k, k, p)\n",
    "\n",
    "print(f\"A probabilidade de a segunda venda ocorrer na 8ª tentativa é: {prob:.4f}\")"
   ]
  }
 ],
 "metadata": {
  "kernelspec": {
   "display_name": ".venv",
   "language": "python",
   "name": "python3"
  },
  "language_info": {
   "codemirror_mode": {
    "name": "ipython",
    "version": 3
   },
   "file_extension": ".py",
   "mimetype": "text/x-python",
   "name": "python",
   "nbconvert_exporter": "python",
   "pygments_lexer": "ipython3",
   "version": "3.13.3"
  }
 },
 "nbformat": 4,
 "nbformat_minor": 5
}
